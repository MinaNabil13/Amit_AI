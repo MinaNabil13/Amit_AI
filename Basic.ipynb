{
 "cells": [
  {
   "cell_type": "markdown",
   "id": "7b1228fb",
   "metadata": {},
   "source": [
    "# Python for machine learning\n",
    "### Basic Operation"
   ]
  },
  {
   "cell_type": "markdown",
   "id": "38cb6dbf",
   "metadata": {},
   "source": [
    "### Adition"
   ]
  },
  {
   "cell_type": "code",
   "execution_count": 1,
   "id": "5f4b0fea",
   "metadata": {},
   "outputs": [
    {
     "data": {
      "text/plain": [
       "5"
      ]
     },
     "execution_count": 1,
     "metadata": {},
     "output_type": "execute_result"
    }
   ],
   "source": [
    "2+3"
   ]
  },
  {
   "cell_type": "markdown",
   "id": "e6fef5c0",
   "metadata": {},
   "source": [
    "### Subtraction\n"
   ]
  },
  {
   "cell_type": "code",
   "execution_count": null,
   "id": "73581d63",
   "metadata": {},
   "outputs": [
    {
     "data": {
      "text/plain": [
       "'\\nThis code make sumission for two numbers\\n'"
      ]
     },
     "execution_count": 5,
     "metadata": {},
     "output_type": "execute_result"
    }
   ],
   "source": [
    "# 6-2\n",
    "'''\n",
    "This code make sumission for two numbers\n",
    "'''"
   ]
  },
  {
   "cell_type": "code",
   "execution_count": 3,
   "id": "cf49b006",
   "metadata": {},
   "outputs": [
    {
     "data": {
      "text/plain": [
       "2.0"
      ]
     },
     "execution_count": 3,
     "metadata": {},
     "output_type": "execute_result"
    }
   ],
   "source": [
    "# Division\n",
    "6/3"
   ]
  },
  {
   "cell_type": "code",
   "execution_count": 4,
   "id": "7fe9b3ac",
   "metadata": {},
   "outputs": [
    {
     "data": {
      "text/plain": [
       "18"
      ]
     },
     "execution_count": 4,
     "metadata": {},
     "output_type": "execute_result"
    }
   ],
   "source": [
    "# Multiblication\n",
    "6*3"
   ]
  },
  {
   "cell_type": "code",
   "execution_count": null,
   "id": "67e5dac0",
   "metadata": {},
   "outputs": [
    {
     "data": {
      "text/plain": [
       "1"
      ]
     },
     "execution_count": 6,
     "metadata": {},
     "output_type": "execute_result"
    }
   ],
   "source": [
    "7%3\n",
    "# Remeinder "
   ]
  },
  {
   "cell_type": "code",
   "execution_count": null,
   "id": "3b189993",
   "metadata": {},
   "outputs": [
    {
     "data": {
      "text/plain": [
       "8"
      ]
     },
     "execution_count": 7,
     "metadata": {},
     "output_type": "execute_result"
    }
   ],
   "source": [
    "2**3\n",
    "# Roots"
   ]
  },
  {
   "cell_type": "code",
   "execution_count": 8,
   "id": "f34433c0",
   "metadata": {},
   "outputs": [
    {
     "data": {
      "text/plain": [
       "105"
      ]
     },
     "execution_count": 8,
     "metadata": {},
     "output_type": "execute_result"
    }
   ],
   "source": [
    "# order of operation followed in python\n",
    "2+10*10+3"
   ]
  },
  {
   "cell_type": "code",
   "execution_count": 9,
   "id": "d7ee9884",
   "metadata": {},
   "outputs": [
    {
     "data": {
      "text/plain": [
       "10"
      ]
     },
     "execution_count": 9,
     "metadata": {},
     "output_type": "execute_result"
    }
   ],
   "source": [
    "# can use parenentheses to specify orders\n",
    "(2+3)*(6-4)"
   ]
  },
  {
   "cell_type": "code",
   "execution_count": 10,
   "id": "6ac5bf50",
   "metadata": {},
   "outputs": [
    {
     "data": {
      "text/plain": [
       "int"
      ]
     },
     "execution_count": 10,
     "metadata": {},
     "output_type": "execute_result"
    }
   ],
   "source": [
    "x = 5\n",
    "type(x)"
   ]
  },
  {
   "cell_type": "code",
   "execution_count": 11,
   "id": "bd96c070",
   "metadata": {},
   "outputs": [
    {
     "data": {
      "text/plain": [
       "str"
      ]
     },
     "execution_count": 11,
     "metadata": {},
     "output_type": "execute_result"
    }
   ],
   "source": [
    "y = \"Mina\" \n",
    "type(y)\n"
   ]
  },
  {
   "cell_type": "code",
   "execution_count": 12,
   "id": "5bd4f665",
   "metadata": {},
   "outputs": [
    {
     "data": {
      "text/plain": [
       "bool"
      ]
     },
     "execution_count": 12,
     "metadata": {},
     "output_type": "execute_result"
    }
   ],
   "source": [
    "z = True\n",
    "type(z)"
   ]
  },
  {
   "cell_type": "markdown",
   "id": "e2e21417",
   "metadata": {},
   "source": [
    "### Complex Function"
   ]
  },
  {
   "cell_type": "code",
   "execution_count": 13,
   "id": "8f751339",
   "metadata": {},
   "outputs": [
    {
     "data": {
      "text/plain": [
       "complex"
      ]
     },
     "execution_count": 13,
     "metadata": {},
     "output_type": "execute_result"
    }
   ],
   "source": [
    "type(5+6j)"
   ]
  },
  {
   "cell_type": "markdown",
   "id": "f5ecc754",
   "metadata": {},
   "source": [
    "## Print Statetment"
   ]
  },
  {
   "cell_type": "code",
   "execution_count": 14,
   "id": "5ef44137",
   "metadata": {},
   "outputs": [
    {
     "name": "stdout",
     "output_type": "stream",
     "text": [
      "5\n"
     ]
    },
    {
     "data": {
      "text/plain": [
       "16"
      ]
     },
     "execution_count": 14,
     "metadata": {},
     "output_type": "execute_result"
    }
   ],
   "source": [
    "print(x)\n",
    "7+9"
   ]
  },
  {
   "cell_type": "markdown",
   "id": "71edcd6f",
   "metadata": {},
   "source": [
    "### Other print examples"
   ]
  },
  {
   "cell_type": "code",
   "execution_count": 16,
   "id": "cc971d72",
   "metadata": {},
   "outputs": [
    {
     "name": "stdout",
     "output_type": "stream",
     "text": [
      "This is the last Number of X: 20\n"
     ]
    }
   ],
   "source": [
    "x = 10\n",
    "x = 20\n",
    "print(\"This is the last Number of X:\", x)"
   ]
  },
  {
   "cell_type": "code",
   "execution_count": 17,
   "id": "8ab19435",
   "metadata": {},
   "outputs": [
    {
     "name": "stdout",
     "output_type": "stream",
     "text": [
      "Math operation\n",
      "===========================\n",
      "10\n",
      "Mina\n"
     ]
    }
   ],
   "source": [
    "print(\"Math operation\")\n",
    "print(\"===========================\")\n",
    "print(5 * 2)\n",
    "print(y)\n"
   ]
  },
  {
   "cell_type": "markdown",
   "id": "a8a7f36d",
   "metadata": {},
   "source": [
    "#### How to "
   ]
  },
  {
   "cell_type": "code",
   "execution_count": 20,
   "id": "5e681628",
   "metadata": {},
   "outputs": [
    {
     "name": "stdout",
     "output_type": "stream",
     "text": [
      "Hello world Mina!!!!"
     ]
    }
   ],
   "source": [
    "''' \n",
    "multiple\n",
    "comments\n",
    "line '''\n",
    "\n",
    "print(\"Hello\", end=\" \")\n",
    "print(\"world\",end=\" \")\n",
    "print(\"Mina\", end=\"\")\n",
    "print(\"!!!!\", end= \"\")\n"
   ]
  },
  {
   "cell_type": "code",
   "execution_count": 27,
   "id": "729fec85",
   "metadata": {},
   "outputs": [],
   "source": [
    "name = \"Mina\"\n",
    "Age = 35"
   ]
  },
  {
   "cell_type": "code",
   "execution_count": 29,
   "id": "5adedda2",
   "metadata": {},
   "outputs": [
    {
     "name": "stdout",
     "output_type": "stream",
     "text": [
      "38\n"
     ]
    }
   ],
   "source": [
    "Age = Age +1 ######It's the same as Age +=1 \n",
    "Age += 1\n",
    "print(Age)"
   ]
  },
  {
   "cell_type": "code",
   "execution_count": 30,
   "id": "00835710",
   "metadata": {},
   "outputs": [
    {
     "name": "stdout",
     "output_type": "stream",
     "text": [
      "10\n"
     ]
    }
   ],
   "source": [
    "# assign a single value to several variables\n",
    "a = b = c = 10\n",
    "print(b)"
   ]
  },
  {
   "cell_type": "code",
   "execution_count": 31,
   "id": "eb95ebb4",
   "metadata": {},
   "outputs": [
    {
     "name": "stdout",
     "output_type": "stream",
     "text": [
      "Ali\n"
     ]
    }
   ],
   "source": [
    "# assign multipule objects to multiplevariables\n",
    "a, b, c = 1, 2, \"Ali\"\n",
    "print(c)"
   ]
  },
  {
   "cell_type": "markdown",
   "id": "aae2fe46",
   "metadata": {},
   "source": [
    "## Multiple line statements & one line statements"
   ]
  },
  {
   "cell_type": "code",
   "execution_count": 32,
   "id": "ced68ecd",
   "metadata": {},
   "outputs": [
    {
     "data": {
      "text/plain": [
       "'This is a long messag that needs to b broken into multiple lines for readability.'"
      ]
     },
     "execution_count": 32,
     "metadata": {},
     "output_type": "execute_result"
    }
   ],
   "source": [
    "message = \"This is a long messag that needs to b\" \\\n",
    "        \" broken into multiple lines for readability.\"\n",
    "message"
   ]
  },
  {
   "cell_type": "code",
   "execution_count": 33,
   "id": "3036b32d",
   "metadata": {},
   "outputs": [
    {
     "data": {
      "text/plain": [
       "34"
      ]
     },
     "execution_count": 33,
     "metadata": {},
     "output_type": "execute_result"
    }
   ],
   "source": [
    "result = ( 2 + 3 + 5 +\n",
    "          4 * 6)\n",
    "result"
   ]
  },
  {
   "cell_type": "markdown",
   "id": "41e444b1",
   "metadata": {},
   "source": [
    "##### One line Statements"
   ]
  },
  {
   "cell_type": "code",
   "execution_count": 34,
   "id": "94061f90",
   "metadata": {},
   "outputs": [],
   "source": [
    "x = 10; y=20; z = x+y\n",
    "name = \"jone\"; age= 30; city = \"New York\""
   ]
  },
  {
   "cell_type": "markdown",
   "id": "a0d9ad6e",
   "metadata": {},
   "source": [
    "#### Creating a string"
   ]
  },
  {
   "cell_type": "markdown",
   "id": "77648ddb",
   "metadata": {},
   "source": [
    "###### To create a string in Python you need to use either single qutes or douple quotetion"
   ]
  },
  {
   "cell_type": "code",
   "execution_count": 1,
   "id": "cf8cc743",
   "metadata": {},
   "outputs": [
    {
     "data": {
      "text/plain": [
       "' \" Triple Quotations\" '"
      ]
     },
     "execution_count": 1,
     "metadata": {},
     "output_type": "execute_result"
    }
   ],
   "source": [
    "# Be carful with quotes!\n",
    "'Do not use single quote insteade'\n",
    "''' \" Triple Quotations\" '''"
   ]
  },
  {
   "cell_type": "code",
   "execution_count": 2,
   "id": "55d57660",
   "metadata": {},
   "outputs": [
    {
     "data": {
      "text/plain": [
       "11"
      ]
     },
     "execution_count": 2,
     "metadata": {},
     "output_type": "execute_result"
    }
   ],
   "source": [
    "x = \"hello world\"\n",
    "len(x)"
   ]
  },
  {
   "cell_type": "code",
   "execution_count": null,
   "id": "9f617cc3",
   "metadata": {},
   "outputs": [
    {
     "data": {
      "text/plain": [
       "'h'"
      ]
     },
     "execution_count": 3,
     "metadata": {},
     "output_type": "execute_result"
    }
   ],
   "source": [
    "x[0] "
   ]
  },
  {
   "cell_type": "code",
   "execution_count": 11,
   "id": "3a7d7ef2",
   "metadata": {},
   "outputs": [
    {
     "data": {
      "text/plain": [
       "'w'"
      ]
     },
     "execution_count": 11,
     "metadata": {},
     "output_type": "execute_result"
    }
   ],
   "source": [
    "x[-5] \n",
    "\n"
   ]
  },
  {
   "cell_type": "markdown",
   "id": "7ce10c62",
   "metadata": {},
   "source": [
    "#### we can use a : to perform slicing which grabs everything up to a designated point. For example:"
   ]
  },
  {
   "cell_type": "code",
   "execution_count": 16,
   "id": "30030a7a",
   "metadata": {},
   "outputs": [
    {
     "data": {
      "text/plain": [
       "' world'"
      ]
     },
     "execution_count": 16,
     "metadata": {},
     "output_type": "execute_result"
    }
   ],
   "source": [
    "x[5:]"
   ]
  },
  {
   "cell_type": "code",
   "execution_count": 14,
   "id": "60a31533",
   "metadata": {},
   "outputs": [
    {
     "data": {
      "text/plain": [
       "'hello world'"
      ]
     },
     "execution_count": 14,
     "metadata": {},
     "output_type": "execute_result"
    }
   ],
   "source": [
    "x[:]"
   ]
  },
  {
   "cell_type": "code",
   "execution_count": 15,
   "id": "6a364445",
   "metadata": {},
   "outputs": [
    {
     "data": {
      "text/plain": [
       "'hello'"
      ]
     },
     "execution_count": 15,
     "metadata": {},
     "output_type": "execute_result"
    }
   ],
   "source": [
    "x[:5]"
   ]
  },
  {
   "cell_type": "code",
   "execution_count": 17,
   "id": "080d0bdd",
   "metadata": {},
   "outputs": [
    {
     "data": {
      "text/plain": [
       "[1, 2, 3, 4, 5, 6, 7, 8, 9, 10]"
      ]
     },
     "execution_count": 17,
     "metadata": {},
     "output_type": "execute_result"
    }
   ],
   "source": [
    "s = [1,2,3,4,5,6,7,8,9,10]\n",
    "s\n",
    "s\n",
    "s\n"
   ]
  },
  {
   "cell_type": "code",
   "execution_count": null,
   "id": "0e458bcd",
   "metadata": {},
   "outputs": [
    {
     "data": {
      "text/plain": [
       "[1, 4, 7, 10]"
      ]
     },
     "execution_count": 18,
     "metadata": {},
     "output_type": "execute_result"
    }
   ],
   "source": [
    "# Number of steps\n",
    "s[::3]\n"
   ]
  },
  {
   "cell_type": "code",
   "execution_count": 19,
   "id": "cc8b6c54",
   "metadata": {},
   "outputs": [
    {
     "data": {
      "text/plain": [
       "[1, 3, 5, 7, 9]"
      ]
     },
     "execution_count": 19,
     "metadata": {},
     "output_type": "execute_result"
    }
   ],
   "source": [
    "s[::2]"
   ]
  },
  {
   "cell_type": "code",
   "execution_count": 27,
   "id": "56805ddc",
   "metadata": {},
   "outputs": [
    {
     "name": "stdout",
     "output_type": "stream",
     "text": [
      "AMIT LEARNING\n",
      "Amit Learning\n",
      "AMIT LEARNING\n",
      "['amit', 'learning']\n"
     ]
    }
   ],
   "source": [
    "name = \"amit learning\"\n",
    "print(name.upper())\n",
    "print(name.title())\n",
    "print(name.swapcase())\n",
    "print(name.split())"
   ]
  },
  {
   "cell_type": "code",
   "execution_count": 21,
   "id": "5df650d9",
   "metadata": {},
   "outputs": [
    {
     "name": "stdout",
     "output_type": "stream",
     "text": [
      "amit learning\n"
     ]
    }
   ],
   "source": [
    "name_2 = \"AMIT LEARNING\"\n",
    "print(name.lower())"
   ]
  },
  {
   "cell_type": "code",
   "execution_count": null,
   "id": "2c56b635",
   "metadata": {},
   "outputs": [
    {
     "name": "stdout",
     "output_type": "stream",
     "text": [
      "HELLO LEARNING\n",
      "Amit learning\n"
     ]
    }
   ],
   "source": [
    "name_2 = \"AMIT LEARNING\"\n",
    "print(name_2.replace(\"AMIT\",\"HELLO\"))\n",
    "print(name_2.capitalize())\n"
   ]
  },
  {
   "cell_type": "code",
   "execution_count": 32,
   "id": "9853dd48",
   "metadata": {},
   "outputs": [
    {
     "ename": "NameError",
     "evalue": "name 'join' is not defined",
     "output_type": "error",
     "traceback": [
      "\u001b[31m---------------------------------------------------------------------------\u001b[39m",
      "\u001b[31mNameError\u001b[39m                                 Traceback (most recent call last)",
      "\u001b[36mCell\u001b[39m\u001b[36m \u001b[39m\u001b[32mIn[32]\u001b[39m\u001b[32m, line 2\u001b[39m\n\u001b[32m      1\u001b[39m words = [\u001b[33m\"\u001b[39m\u001b[33mthis\u001b[39m\u001b[33m\"\u001b[39m, \u001b[33m\"\u001b[39m\u001b[33mis\u001b[39m\u001b[33m\"\u001b[39m, \u001b[33m\"\u001b[39m\u001b[33ma\u001b[39m\u001b[33m\"\u001b[39m, \u001b[33m\"\u001b[39m\u001b[33msentance\u001b[39m\u001b[33m\"\u001b[39m]\n\u001b[32m----> \u001b[39m\u001b[32m2\u001b[39m sentence =  \u001b[43mjoin\u001b[49m(words)\n\u001b[32m      3\u001b[39m \u001b[38;5;28mprint\u001b[39m(sentence)\n",
      "\u001b[31mNameError\u001b[39m: name 'join' is not defined"
     ]
    }
   ],
   "source": [
    "words = [\"this\", \"is\", \"a\", \"sentance\"]\n",
    "sentence =  join(words)\n",
    "print(sentence)"
   ]
  },
  {
   "cell_type": "code",
   "execution_count": 33,
   "id": "23be3c68",
   "metadata": {},
   "outputs": [
    {
     "name": "stdout",
     "output_type": "stream",
     "text": [
      "86\n"
     ]
    }
   ],
   "source": [
    "My_string = \"0123456789\"\n",
    "print(My_string[-2:-6:-2])"
   ]
  },
  {
   "cell_type": "code",
   "execution_count": 38,
   "id": "d5d25e58",
   "metadata": {},
   "outputs": [],
   "source": [
    "n = input(\"please inter your email\")\n",
    "username = n[:5]"
   ]
  },
  {
   "cell_type": "code",
   "execution_count": 39,
   "id": "4a4663d7",
   "metadata": {},
   "outputs": [],
   "source": [
    "username = n[:5]"
   ]
  },
  {
   "cell_type": "code",
   "execution_count": 40,
   "id": "bb4771e9",
   "metadata": {},
   "outputs": [
    {
     "data": {
      "text/plain": [
       "'menan'"
      ]
     },
     "execution_count": 40,
     "metadata": {},
     "output_type": "execute_result"
    }
   ],
   "source": [
    "username"
   ]
  },
  {
   "cell_type": "code",
   "execution_count": null,
   "id": "ed88d1d0",
   "metadata": {},
   "outputs": [],
   "source": []
  }
 ],
 "metadata": {
  "kernelspec": {
   "display_name": "Python 3",
   "language": "python",
   "name": "python3"
  },
  "language_info": {
   "codemirror_mode": {
    "name": "ipython",
    "version": 3
   },
   "file_extension": ".py",
   "mimetype": "text/x-python",
   "name": "python",
   "nbconvert_exporter": "python",
   "pygments_lexer": "ipython3",
   "version": "3.13.3"
  }
 },
 "nbformat": 4,
 "nbformat_minor": 5
}
